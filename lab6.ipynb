{
 "cells": [
  {
   "cell_type": "code",
   "execution_count": 52,
   "metadata": {},
   "outputs": [
    {
     "name": "stdout",
     "output_type": "stream",
     "text": [
      "Call Time: 2023-10-26 17:57:21.550653\n",
      "Function Name: multiply\n",
      "Arguments: (3, 4)\n",
      "Return Value: 12\n",
      "------------------------------\n",
      "Call Time: 2023-10-26 17:57:21.550952\n",
      "Function Name: multiply\n",
      "Arguments: (5, 6)\n",
      "Return Value: 30\n",
      "------------------------------\n",
      "[{'call_time': datetime.datetime(2023, 10, 26, 17, 57, 21, 550653), 'function_name': 'multiply', 'arguments': (3, 4), 'return_value': 12}, {'call_time': datetime.datetime(2023, 10, 26, 17, 57, 21, 550952), 'function_name': 'multiply', 'arguments': (5, 6), 'return_value': 30}]\n"
     ]
    }
   ],
   "source": [
    "import datetime\n",
    "import csv\n",
    "\n",
    "log_data = []\n",
    "\n",
    "def logger(func):\n",
    "    def wrapper(*args, **kwargs):\n",
    "        call_time = datetime.datetime.now()\n",
    "        function_name = func.__name__\n",
    "        arguments = args\n",
    "        return_value = func(*args, **kwargs)\n",
    "        \n",
    "        log_entry = {\n",
    "            \"call_time\": call_time,\n",
    "            \"function_name\": function_name,\n",
    "            \"arguments\": arguments,\n",
    "            \"return_value\": return_value\n",
    "        }\n",
    "        \n",
    "        log_data.append(log_entry)\n",
    "        \n",
    "        \n",
    "        print(\"Call Time:\", log_entry[\"call_time\"])\n",
    "        print(\"Function Name:\", log_entry[\"function_name\"])\n",
    "        print(\"Arguments:\", log_entry[\"arguments\"])\n",
    "        print(\"Return Value:\", log_entry[\"return_value\"])\n",
    "        print(\"-\" * 30) \n",
    "        \n",
    "        return return_value\n",
    "    return wrapper\n",
    "\n",
    "def get_logs():\n",
    "    for log_entry in log_data:\n",
    "        yield log_entry\n",
    "\n",
    "\n",
    "@logger\n",
    "def multiply(a, b):\n",
    "    return a * b\n",
    "\n",
    "multiply(3, 4)\n",
    "multiply(5, 6)\n",
    "\n",
    "log = get_logs()\n",
    "print(log_data)\n",
    "\n",
    "\n",
    "with open(\"logg.csv\", \"w\", newline='') as file:\n",
    "    writer = csv.writer(file)\n",
    "    \n",
    "    # Запис заголовку\n",
    "    writer.writerow([\"Call Time\", \"Function Name\", \"Arguments\", \"Return Value\"])\n",
    "    \n",
    "    # Запис даних\n",
    "    for log_entry in log_data:\n",
    "        writer.writerow([\n",
    "            log_entry[\"call_time\"],\n",
    "            log_entry[\"function_name\"],\n",
    "            log_entry[\"arguments\"],\n",
    "            log_entry[\"return_value\"]\n",
    "        ])\n"
   ]
  }
 ],
 "metadata": {
  "kernelspec": {
   "display_name": "Python 3",
   "language": "python",
   "name": "python3"
  },
  "language_info": {
   "codemirror_mode": {
    "name": "ipython",
    "version": 3
   },
   "file_extension": ".py",
   "mimetype": "text/x-python",
   "name": "python",
   "nbconvert_exporter": "python",
   "pygments_lexer": "ipython3",
   "version": "3.11.5"
  }
 },
 "nbformat": 4,
 "nbformat_minor": 2
}
