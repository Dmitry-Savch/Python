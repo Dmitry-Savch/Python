{
 "cells": [
  {
   "cell_type": "code",
   "execution_count": 1,
   "metadata": {},
   "outputs": [
    {
     "name": "stdout",
     "output_type": "stream",
     "text": [
      "myint:10 <class 'int'>\n",
      "myFloat: 20.5 <class 'float'>\n",
      "myBool: True <class 'bool'>\n",
      "myStr: Biba <class 'str'>\n",
      "myList: [1, 2, 3, 4, 5] <class 'list'>\n"
     ]
    }
   ],
   "source": [
    "myInt = int(10)\n",
    "myFloat = float(20.5)\n",
    "myBool = bool(True)\n",
    "myStr = str(\"Biba\")\n",
    "myList = [1, 2, 3, 4, 5]\n",
    "\n",
    "print(f\"myint:{myInt} {type(myInt)}\")\n",
    "print(f\"myFloat: {myFloat} {type(myFloat)}\")\n",
    "print(f\"myBool: {myBool} {type(myBool)}\")\n",
    "print(f\"myStr: {myStr} {type(myStr)}\")\n",
    "print(f\"myList: {myList} {type(myList)}\")\n"
   ]
  }
 ],
 "metadata": {
  "kernelspec": {
   "display_name": "Python 3",
   "language": "python",
   "name": "python3"
  },
  "language_info": {
   "codemirror_mode": {
    "name": "ipython",
    "version": 3
   },
   "file_extension": ".py",
   "mimetype": "text/x-python",
   "name": "python",
   "nbconvert_exporter": "python",
   "pygments_lexer": "ipython3",
   "version": "3.11.5"
  },
  "orig_nbformat": 4
 },
 "nbformat": 4,
 "nbformat_minor": 2
}
