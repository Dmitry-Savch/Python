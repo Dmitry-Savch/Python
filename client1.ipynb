{
 "cells": [
  {
   "cell_type": "code",
   "execution_count": 1,
   "metadata": {},
   "outputs": [
    {
     "name": "stderr",
     "output_type": "stream",
     "text": [
      "2023-12-07 13:27:21.666 Python[27217:1400842] WARNING: Secure coding is not enabled for restorable state! Enable secure coding by implementing NSApplicationDelegate.applicationSupportsSecureRestorableState: and returning YES.\n"
     ]
    }
   ],
   "source": [
    "import socket\n",
    "import threading\n",
    "import tkinter as tk\n",
    "from tkinter import scrolledtext, simpledialog\n",
    "\n",
    "class ClientGUI:\n",
    "    def __init__(self, master):\n",
    "        self.master = master\n",
    "        self.master.title(\"Chat Client\")\n",
    "\n",
    "        self.chat_area = scrolledtext.ScrolledText(master, wrap=tk.WORD)\n",
    "        self.chat_area.pack(expand=True, fill='both')\n",
    "\n",
    "        self.message_entry = tk.Entry(master)\n",
    "        self.message_entry.pack(expand=True, fill='x')\n",
    "\n",
    "        self.send_button = tk.Button(master, text=\"Send\", command=self.send_message)\n",
    "        self.send_button.pack(expand=True, fill='x')\n",
    "\n",
    "        self.username = simpledialog.askstring(\"Username\", \"Enter your username:\")\n",
    "        self.client = socket.socket(socket.AF_INET, socket.SOCK_STREAM)\n",
    "        self.client.connect(('localhost', 1234))\n",
    "\n",
    "        self.client.send(self.username.encode())\n",
    "\n",
    "        receive_thread = threading.Thread(target=self.receive_messages)\n",
    "        receive_thread.start()\n",
    "\n",
    "    def send_message(self):\n",
    "        message = self.message_entry.get()\n",
    "        if message.lower() == 'quit':\n",
    "            self.client.close()\n",
    "            self.master.destroy()\n",
    "        else:\n",
    "            self.client.send(message.encode())\n",
    "        self.message_entry.delete(0, 'end')\n",
    "\n",
    "    def receive_messages(self):\n",
    "        while True:\n",
    "            try:\n",
    "                message = self.client.recv(1024).decode()\n",
    "                self.chat_area.insert(tk.END, message + '\\n')\n",
    "            except:\n",
    "                break\n",
    "\n",
    "if __name__ == \"__main__\":\n",
    "    root = tk.Tk()\n",
    "    client_gui = ClientGUI(root)\n",
    "    root.mainloop()\n",
    "\n",
    "\n"
   ]
  }
 ],
 "metadata": {
  "kernelspec": {
   "display_name": "Python 3",
   "language": "python",
   "name": "python3"
  },
  "language_info": {
   "codemirror_mode": {
    "name": "ipython",
    "version": 3
   },
   "file_extension": ".py",
   "mimetype": "text/x-python",
   "name": "python",
   "nbconvert_exporter": "python",
   "pygments_lexer": "ipython3",
   "version": "3.11.5"
  }
 },
 "nbformat": 4,
 "nbformat_minor": 2
}
