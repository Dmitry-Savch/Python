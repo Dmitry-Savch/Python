{
 "cells": [
  {
   "cell_type": "code",
   "execution_count": null,
   "metadata": {},
   "outputs": [],
   "source": [
    "def addition():\n",
    "    a = float(input(\"Введіть перше число: \"))\n",
    "    b = float(input(\"Введіть друге число: \"))\n",
    "    c = a + b\n",
    "    print(\"Результат додавання\", c)\n",
    "\n",
    "\n",
    "def minus():\n",
    "    a = float(input(\"Введіть перше число: \"))\n",
    "    b = float(input(\"Введіть друге число: \"))\n",
    "    c = a - b\n",
    "    print(\"Результат віднімання\", c)\n",
    "\n",
    "\n",
    "def multiplication():\n",
    "    a = float(input(\"Введіть перше число: \"))\n",
    "    b = float(input(\"Введіть друге число: \"))\n",
    "    c = a * b\n",
    "    print(\"Результат множення: \", c)\n",
    "\n",
    "\n",
    "def division():\n",
    "    a = float(input(\"Введіть перше число: \"))\n",
    "    b = float(input(\"Введіть друге число: \"))\n",
    "\n",
    "    if b != 0:\n",
    "        c = a / b\n",
    "        print(\"Результат ділення:\", c)\n",
    "    else:\n",
    "        print(\"На нуль не ділиться\")\n",
    "\n",
    "\n",
    "def choose_case():\n",
    "    while True:\n",
    "        try:\n",
    "            choose = int(input(\n",
    "            \"Яку дію хочете виконати?\\n 1. Додавання\\n 2. Віднімання\\n 3. Множення\\n 4. Ділення \\n 5. Вихід \\n Обирайте:\"))\n",
    "            if choose == 1:\n",
    "                addition()\n",
    "            elif choose == 2:\n",
    "                minus()\n",
    "            elif choose == 3:\n",
    "                multiplication()\n",
    "            elif choose == 4:\n",
    "                division()\n",
    "            elif choose == 5:\n",
    "                break\n",
    "            else:\n",
    "                print(\"Error\")\n",
    "        except ValueError:\n",
    "            print(\"помилка вводу\")\n",
    "\n",
    "choose_case()\n"
   ]
  }
 ],
 "metadata": {
  "kernelspec": {
   "display_name": "Python 3",
   "language": "python",
   "name": "python3"
  },
  "language_info": {
   "codemirror_mode": {
    "name": "ipython",
    "version": 3
   },
   "file_extension": ".py",
   "mimetype": "text/x-python",
   "name": "python",
   "nbconvert_exporter": "python",
   "pygments_lexer": "ipython3",
   "version": "3.11.5"
  },
  "orig_nbformat": 4
 },
 "nbformat": 4,
 "nbformat_minor": 2
}
