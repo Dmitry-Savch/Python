{
 "cells": [
  {
   "cell_type": "code",
   "execution_count": 116,
   "metadata": {},
   "outputs": [],
   "source": [
    "import random\n",
    "\n",
    "def charivna_kulka(question):\n",
    "    \"\"\"\n",
    "    Функція, яка приймає питання та повертає випадкову відповідь\n",
    "    \n",
    "    \"\"\"\n",
    "    answers = [\"так\", \"ні\", \"можливо\", \"дурниці\"]\n",
    "    response = random.choice(answers)\n",
    "    \n",
    "    return response\n",
    "\n",
    "def test_response_type():\n",
    "    \"\"\"\n",
    "    Тест перевіряє, чи результат функції є рядком типу str\n",
    "    \"\"\"\n",
    "    user_question = \"Чи отримаю я сьогодні позитивний бал?\"  \n",
    "    response = charivna_kulka(user_question)\n",
    "    assert isinstance(response, str)\n",
    "\n",
    "def test_response_in_expected_answers():\n",
    "    \"\"\"\n",
    "    Тест перевіряє, чи результат функції знаходиться серед відповідей\n",
    "    \"\"\"\n",
    "    user_question = \"Чи отримаю я сьогодні позитивний бал?\"  \n",
    "    response = charivna_kulka(user_question)\n",
    "    expected_answers = [\"так\", \"можливо\", \"дурниці\"]\n",
    "    assert response in expected_answers\n",
    "\n",
    "def test_empty_question_response():\n",
    "    \"\"\"\n",
    "    Тест перевіряє реакцію функції на пусте запитання\n",
    "    \"\"\"\n",
    "    empty_question = \"\"\n",
    "    response_empty = charivna_kulka(empty_question)\n",
    "    assert isinstance(response_empty, str)\n",
    "\n",
    "test_response_type()\n",
    "test_response_in_expected_answers()\n",
    "test_empty_question_response()\n",
    "\n",
    "\n"
   ]
  }
 ],
 "metadata": {
  "kernelspec": {
   "display_name": "Python 3",
   "language": "python",
   "name": "python3"
  },
  "language_info": {
   "codemirror_mode": {
    "name": "ipython",
    "version": 3
   },
   "file_extension": ".py",
   "mimetype": "text/x-python",
   "name": "python",
   "nbconvert_exporter": "python",
   "pygments_lexer": "ipython3",
   "version": "3.11.5"
  }
 },
 "nbformat": 4,
 "nbformat_minor": 2
}
