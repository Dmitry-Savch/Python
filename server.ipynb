{
 "cells": [
  {
   "cell_type": "code",
   "execution_count": null,
   "metadata": {},
   "outputs": [],
   "source": [
    "import socket\n",
    "import threading\n",
    "\n",
    "def client_thread(conn, addr, clients, usernames):\n",
    "    username = conn.recv(1024).decode()\n",
    "    usernames[conn] = username\n",
    "\n",
    "    broadcast(f\"{username} приєднався до чату\", clients)\n",
    "\n",
    "    while True:\n",
    "        try:\n",
    "            message = conn.recv(1024).decode()\n",
    "            if not message:\n",
    "                remove_client(conn, clients, usernames)\n",
    "                break\n",
    "            broadcast(f\"{username}: {message}\", clients)\n",
    "        except:\n",
    "            continue\n",
    "\n",
    "def broadcast(message, clients):\n",
    "    for client in clients:\n",
    "        try:\n",
    "            client.send(message.encode())\n",
    "        except:\n",
    "            continue\n",
    "\n",
    "def remove_client(conn, clients, usernames):\n",
    "    username = usernames[conn]\n",
    "    clients.remove(conn)\n",
    "    del usernames[conn]\n",
    "    conn.close()\n",
    "    broadcast(f\"{username} вийшов з чату\", clients)\n",
    "\n",
    "def start_server():\n",
    "    server = socket.socket(socket.AF_INET, socket.SOCK_STREAM)\n",
    "    server.bind(('localhost', 12346))\n",
    "    server.listen()\n",
    "\n",
    "    clients = []\n",
    "    usernames = {}\n",
    "\n",
    "    print(\"Сервер запущено. Очікування підключень...\")\n",
    "\n",
    "    while True:\n",
    "        conn, addr = server.accept()\n",
    "        clients.append(conn)\n",
    "\n",
    "        thread = threading.Thread(target=client_thread, args=(conn, addr, clients, usernames))\n",
    "        thread.start()\n",
    "\n",
    "if __name__ == \"__main__\":\n",
    "    start_server()\n",
    "\n"
   ]
  }
 ],
 "metadata": {
  "kernelspec": {
   "display_name": "Python 3",
   "language": "python",
   "name": "python3"
  },
  "language_info": {
   "codemirror_mode": {
    "name": "ipython",
    "version": 3
   },
   "file_extension": ".py",
   "mimetype": "text/x-python",
   "name": "python",
   "nbconvert_exporter": "python",
   "pygments_lexer": "ipython3",
   "version": "3.11.5"
  }
 },
 "nbformat": 4,
 "nbformat_minor": 2
}
