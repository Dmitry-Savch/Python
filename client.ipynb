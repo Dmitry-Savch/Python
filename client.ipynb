{
 "cells": [
  {
   "cell_type": "code",
   "execution_count": 1,
   "metadata": {},
   "outputs": [
    {
     "name": "stderr",
     "output_type": "stream",
     "text": [
      "2023-12-07 13:27:30.662 Python[27191:1400459] WARNING: Secure coding is not enabled for restorable state! Enable secure coding by implementing NSApplicationDelegate.applicationSupportsSecureRestorableState: and returning YES.\n"
     ]
    },
    {
     "ename": "ConnectionRefusedError",
     "evalue": "[Errno 61] Connection refused",
     "output_type": "error",
     "traceback": [
      "\u001b[0;31m---------------------------------------------------------------------------\u001b[0m",
      "\u001b[0;31mConnectionRefusedError\u001b[0m                    Traceback (most recent call last)",
      "\u001b[1;32m/Users/dmitrosavcuk/Desktop/server/client.ipynb Cell 1\u001b[0m line \u001b[0;36m4\n\u001b[1;32m     <a href='vscode-notebook-cell:/Users/dmitrosavcuk/Desktop/server/client.ipynb#W0sZmlsZQ%3D%3D?line=45'>46</a>\u001b[0m \u001b[39mif\u001b[39;00m \u001b[39m__name__\u001b[39m \u001b[39m==\u001b[39m \u001b[39m\"\u001b[39m\u001b[39m__main__\u001b[39m\u001b[39m\"\u001b[39m:\n\u001b[1;32m     <a href='vscode-notebook-cell:/Users/dmitrosavcuk/Desktop/server/client.ipynb#W0sZmlsZQ%3D%3D?line=46'>47</a>\u001b[0m     root \u001b[39m=\u001b[39m tk\u001b[39m.\u001b[39mTk()\n\u001b[0;32m---> <a href='vscode-notebook-cell:/Users/dmitrosavcuk/Desktop/server/client.ipynb#W0sZmlsZQ%3D%3D?line=47'>48</a>\u001b[0m     client_gui \u001b[39m=\u001b[39m ClientGUI(root)\n\u001b[1;32m     <a href='vscode-notebook-cell:/Users/dmitrosavcuk/Desktop/server/client.ipynb#W0sZmlsZQ%3D%3D?line=48'>49</a>\u001b[0m     root\u001b[39m.\u001b[39mmainloop()\n",
      "\u001b[1;32m/Users/dmitrosavcuk/Desktop/server/client.ipynb Cell 1\u001b[0m line \u001b[0;36m2\n\u001b[1;32m     <a href='vscode-notebook-cell:/Users/dmitrosavcuk/Desktop/server/client.ipynb#W0sZmlsZQ%3D%3D?line=19'>20</a>\u001b[0m \u001b[39mself\u001b[39m\u001b[39m.\u001b[39musername \u001b[39m=\u001b[39m simpledialog\u001b[39m.\u001b[39maskstring(\u001b[39m\"\u001b[39m\u001b[39mUsername\u001b[39m\u001b[39m\"\u001b[39m, \u001b[39m\"\u001b[39m\u001b[39mEnter your username:\u001b[39m\u001b[39m\"\u001b[39m)\n\u001b[1;32m     <a href='vscode-notebook-cell:/Users/dmitrosavcuk/Desktop/server/client.ipynb#W0sZmlsZQ%3D%3D?line=20'>21</a>\u001b[0m \u001b[39mself\u001b[39m\u001b[39m.\u001b[39mclient \u001b[39m=\u001b[39m socket\u001b[39m.\u001b[39msocket(socket\u001b[39m.\u001b[39mAF_INET, socket\u001b[39m.\u001b[39mSOCK_STREAM)\n\u001b[0;32m---> <a href='vscode-notebook-cell:/Users/dmitrosavcuk/Desktop/server/client.ipynb#W0sZmlsZQ%3D%3D?line=21'>22</a>\u001b[0m \u001b[39mself\u001b[39;49m\u001b[39m.\u001b[39;49mclient\u001b[39m.\u001b[39;49mconnect((\u001b[39m'\u001b[39;49m\u001b[39mlocalhost\u001b[39;49m\u001b[39m'\u001b[39;49m, \u001b[39m1234\u001b[39;49m))\n\u001b[1;32m     <a href='vscode-notebook-cell:/Users/dmitrosavcuk/Desktop/server/client.ipynb#W0sZmlsZQ%3D%3D?line=23'>24</a>\u001b[0m \u001b[39mself\u001b[39m\u001b[39m.\u001b[39mclient\u001b[39m.\u001b[39msend(\u001b[39mself\u001b[39m\u001b[39m.\u001b[39musername\u001b[39m.\u001b[39mencode())\n\u001b[1;32m     <a href='vscode-notebook-cell:/Users/dmitrosavcuk/Desktop/server/client.ipynb#W0sZmlsZQ%3D%3D?line=25'>26</a>\u001b[0m receive_thread \u001b[39m=\u001b[39m threading\u001b[39m.\u001b[39mThread(target\u001b[39m=\u001b[39m\u001b[39mself\u001b[39m\u001b[39m.\u001b[39mreceive_messages)\n",
      "\u001b[0;31mConnectionRefusedError\u001b[0m: [Errno 61] Connection refused"
     ]
    }
   ],
   "source": [
    "import socket\n",
    "import threading\n",
    "import tkinter as tk\n",
    "from tkinter import scrolledtext, simpledialog\n",
    "\n",
    "class ClientGUI:\n",
    "    def __init__(self, master):\n",
    "        self.master = master\n",
    "        self.master.title(\"Chat Client\")\n",
    "\n",
    "        self.chat_area = scrolledtext.ScrolledText(master, wrap=tk.WORD)\n",
    "        self.chat_area.pack(expand=True, fill='both')\n",
    "\n",
    "        self.message_entry = tk.Entry(master)\n",
    "        self.message_entry.pack(expand=True, fill='x')\n",
    "\n",
    "        self.send_button = tk.Button(master, text=\"Send\", command=self.send_message)\n",
    "        self.send_button.pack(expand=True, fill='x')\n",
    "\n",
    "        self.username = simpledialog.askstring(\"Username\", \"Enter your username:\")\n",
    "        self.client = socket.socket(socket.AF_INET, socket.SOCK_STREAM)\n",
    "        self.client.connect(('localhost', 1234))\n",
    "\n",
    "        self.client.send(self.username.encode())\n",
    "\n",
    "        receive_thread = threading.Thread(target=self.receive_messages)\n",
    "        receive_thread.start()\n",
    "\n",
    "    def send_message(self):\n",
    "        message = self.message_entry.get()\n",
    "        if message.lower() == 'quit':\n",
    "            self.client.close()\n",
    "            self.master.destroy()\n",
    "        else:\n",
    "            self.client.send(message.encode())\n",
    "        self.message_entry.delete(0, 'end')\n",
    "\n",
    "    def receive_messages(self):\n",
    "        while True:\n",
    "            try:\n",
    "                message = self.client.recv(1024).decode()\n",
    "                self.chat_area.insert(tk.END, message + '\\n')\n",
    "            except:\n",
    "                break\n",
    "\n",
    "if __name__ == \"__main__\":\n",
    "    root = tk.Tk()\n",
    "    client_gui = ClientGUI(root)\n",
    "    root.mainloop()\n",
    "\n"
   ]
  }
 ],
 "metadata": {
  "kernelspec": {
   "display_name": "Python 3",
   "language": "python",
   "name": "python3"
  },
  "language_info": {
   "codemirror_mode": {
    "name": "ipython",
    "version": 3
   },
   "file_extension": ".py",
   "mimetype": "text/x-python",
   "name": "python",
   "nbconvert_exporter": "python",
   "pygments_lexer": "ipython3",
   "version": "3.11.5"
  }
 },
 "nbformat": 4,
 "nbformat_minor": 2
}
