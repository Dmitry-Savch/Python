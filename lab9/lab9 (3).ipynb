{
 "cells": [
  {
   "cell_type": "code",
   "execution_count": null,
   "metadata": {},
   "outputs": [],
   "source": [
    "import pandas as pd\n",
    "import matplotlib.pyplot as plt\n",
    "\n",
    "equipment_losses_path = 'lab9/russia_losses_equipment_correction.csv'\n",
    "equipment_correction_path = 'lab9/russia_losses_equipment.csv'\n",
    "personnel_losses_path = 'lab9/russia_losses_personnel.csv'\n",
    "\n",
    "equipment_losses_df = pd.read_csv(equipment_losses_path)\n",
    "equipment_correction_df = pd.read_csv(equipment_correction_path)\n",
    "personnel_losses_df = pd.read_csv(personnel_losses_path)\n",
    "\n",
    "equipment_losses_df.fillna(0, inplace=True)\n",
    "equipment_losses_df.drop_duplicates(inplace=True)\n",
    "equipment_correction_df.fillna(0, inplace=True)\n",
    "equipment_correction_df.drop_duplicates(inplace=True)\n",
    "personnel_losses_df.fillna(0, inplace=True)\n",
    "personnel_losses_df.drop_duplicates(inplace=True)\n",
    "\n",
    "equipment_losses_stats = equipment_losses_df.describe()\n",
    "equipment_correction_stats = equipment_correction_df.describe()\n",
    "personnel_losses_stats = personnel_losses_df.describe()\n",
    "\n",
    "grouped_equipment_losses = equipment_losses_df.groupby('day').sum()\n",
    "sorted_equipment_losses = grouped_equipment_losses.(by='day', ascending=False)sort_values\n",
    "grouped_personnel_losses = personnel_losses_df.groupby('day').sum()\n",
    "sorted_personnel_losses = grouped_personnel_losses.sort_values(by='day', ascending=False)\n",
    "\n",
    "\n",
    "\n",
    "sorted_equipment_losses.head(), sorted_personnel_losses.head()\n",
    "\n",
    "\n",
    "plt.figure(figsize=(12, 6))\n",
    "plt.title(\"Динаміка втрат техніки\")\n",
    "plt.plot(sorted_equipment_losses.index, sorted_equipment_losses['tank'], label='Танки')\n",
    "plt.plot(sorted_equipment_losses.index, sorted_equipment_losses['aircraft'], label='Літаки')\n",
    "plt.plot(sorted_equipment_losses.index, sorted_equipment_losses['helicopter'], label='Вертольоти')\n",
    "plt.xlabel(\"Дні\")\n",
    "plt.ylabel(\"Кількість\")\n",
    "plt.legend()\n",
    "plt.show()\n",
    "\n",
    "plt.figure(figsize=(12, 6))\n",
    "plt.title(\"Динаміка втрат особового складу\")\n",
    "plt.plot(sorted_personnel_losses.index, sorted_personnel_losses['personnel'], label='Особовий склад')\n",
    "plt.xlabel(\"Дні\")\n",
    "plt.ylabel(\"Кількість\")\n",
    "plt.legend()\n",
    "plt.show()"
   ]
  }
 ],
 "metadata": {
  "kernelspec": {
   "display_name": "Python 3.11.4 64-bit",
   "language": "python",
   "name": "python3"
  },
  "language_info": {
   "name": "python",
   "version": "3.11.4"
  },
  "orig_nbformat": 4,
  "vscode": {
   "interpreter": {
    "hash": "aee8b7b246df8f9039afb4144a1f6fd8d2ca17a180786b69acc140d282b71a49"
   }
  }
 },
 "nbformat": 4,
 "nbformat_minor": 2
}
